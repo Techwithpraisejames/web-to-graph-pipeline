{
 "cells": [
  {
   "cell_type": "markdown",
   "id": "dd205862-de36-4cf9-9309-364ae14e6cfa",
   "metadata": {},
   "source": [
    "# Constructing a knowledge graph using Diffbot\n",
    "\n",
    "This Jupyter Notebook will guide you step-by-step on how to build a web-powered knowledge graph with Diffbot Natural Language API and LangChain.\n",
    "\n",
    "Install Required Packages\n",
    "```bash\n",
    "pip install --upgrade --quiet  langchain langchain-experimental langchain-openai langchain-neo4j neo4j wikipedia"
   ]
  },
  {
   "cell_type": "code",
   "execution_count": null,
   "id": "08ebf8ba-78ee-49b7-b524-b6f4535dd1db",
   "metadata": {},
   "outputs": [],
   "source": [
    "# Get your API token from Diffbot. Note that you have to sign up with a work email. \n",
    "\n",
    "import os\n",
    "from langchain_experimental.graph_transformers.diffbot import DiffbotGraphTransformer\n",
    "diffbot_api_key = os.getenv(\"DIFFBOT_API_KEY\")\n",
    "diffbot_nlp = DiffbotGraphTransformer(diffbot_api_key=diffbot_api_key)"
   ]
  },
  {
   "cell_type": "markdown",
   "id": "bcea46d9-3741-4b26-ba65-c1b599ad7d38",
   "metadata": {},
   "source": [
    "The `DiffbotGraphTransformer` class extracts the entities and relationships and returns graph-ready data. Thus, you don’t need dedicated tools for data preprocessing or NER implementation. \n"
   ]
  },
  {
   "cell_type": "code",
   "execution_count": null,
   "id": "644d4361-e2fd-4147-bfb9-77719d655b19",
   "metadata": {},
   "outputs": [],
   "source": [
    "# Fetch data from Wikipedia\n",
    "\n",
    "from langchain_community.document_loaders import WikipediaLoader\n",
    "\n",
    "search_term = \"Elon Musk\"\n",
    "wiki_data = WikipediaLoader(query=search_term).load()\n",
    "\n",
    "try:\n",
    "    graph_docs = diffbot_nlp.convert_to_graph_documents(wiki_data)\n",
    "    print(\"Graph Documents:\", graph_docs)\n",
    "except Exception as e:\n",
    "    print(f\"An error occurred while converting to graph documents: {e}\")\n"
   ]
  },
  {
   "cell_type": "code",
   "execution_count": null,
   "id": "9a216de1-a9ef-4983-a6e3-d43ecdde4d65",
   "metadata": {},
   "outputs": [],
   "source": [
    "# Start an instance on Neo4j AuraDB and save credentials as environment variables\n",
    "\n",
    "from langchain_neo4j import Neo4jGraph\n",
    "\n",
    "uri = os.getenv(\"NEO4J_URI\")\n",
    "username = os.getenv(\"NEO4J_USERNAME\")\n",
    "password = os.getenv(\"NEO4J_PASSWORD\")\n",
    "\n",
    "graph = Neo4jGraph(uri=uri, username=username, password=password)\n",
    "graph.add_graph_documents(graph_docs)\n",
    "\n",
    "# The add_graph_documents method loads the graph documents into Neo4j AuraDB"
   ]
  },
  {
   "cell_type": "code",
   "execution_count": null,
   "id": "fb1028eb-9b68-42a4-a44c-57b0ce507e45",
   "metadata": {},
   "outputs": [],
   "source": [
    "#  Query the graph using GraphCypherQAChain and GPT-4.1\n",
    "\n",
    "\n",
    "from langchain_neo4j import GraphCypherQAChain\n",
    "from langchain_openai import ChatOpenAI\n",
    "openai_api_key = os.getenv(\"OPENAI_API_KEY\")\n",
    "chain = GraphCypherQAChain.from_llm(\n",
    "    cypher_llm=ChatOpenAI(temperature=0, model_name=\"gpt-4.1\", api_key=openai_api_key),\n",
    "    qa_llm=ChatOpenAI(temperature=0, model_name=\"gpt-4.1\", api_key=openai_api_key),\n",
    "    graph=graph,\n",
    "    verbose=True,\n",
    "    allow_dangerous_requests=True,\n",
    ")\n",
    "\n",
    "# Test the chain\n",
    "result = chain.run(\"What organizations is Elon Musk a member of?\")\n",
    "print(result)\n",
    "\n"
   ]
  }
 ],
 "metadata": {
  "kernelspec": {
   "display_name": "Python 3 (ipykernel)",
   "language": "python",
   "name": "python3"
  },
  "language_info": {
   "codemirror_mode": {
    "name": "ipython",
    "version": 3
   },
   "file_extension": ".py",
   "mimetype": "text/x-python",
   "name": "python",
   "nbconvert_exporter": "python",
   "pygments_lexer": "ipython3",
   "version": "3.13.5"
  }
 },
 "nbformat": 4,
 "nbformat_minor": 5
}
